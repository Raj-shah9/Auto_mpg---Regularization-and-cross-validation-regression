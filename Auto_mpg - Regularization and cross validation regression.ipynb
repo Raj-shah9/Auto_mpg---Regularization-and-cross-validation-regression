{
 "cells": [
  {
   "cell_type": "code",
   "execution_count": 4,
   "id": "7913583e",
   "metadata": {},
   "outputs": [],
   "source": [
    "# Importing required libraries\n",
    "import pandas as pd\n",
    "from sklearn.model_selection import train_test_split\n",
    "from sklearn.linear_model import Lasso\n",
    "from sklearn.metrics import mean_absolute_percentage_error\n",
    "from sklearn.preprocessing import StandardScaler\n",
    "from sklearn.linear_model import LassoLarsIC\n",
    "from sklearn.pipeline import make_pipeline\n",
    "import time\n",
    "from sklearn.model_selection import KFold\n",
    "from sklearn.model_selection import cross_val_score\n",
    "from sklearn.linear_model import LinearRegression\n",
    "import numpy as np"
   ]
  },
  {
   "cell_type": "code",
   "execution_count": 6,
   "id": "b8217bbf",
   "metadata": {},
   "outputs": [
    {
     "data": {
      "text/html": [
       "<div>\n",
       "<style scoped>\n",
       "    .dataframe tbody tr th:only-of-type {\n",
       "        vertical-align: middle;\n",
       "    }\n",
       "\n",
       "    .dataframe tbody tr th {\n",
       "        vertical-align: top;\n",
       "    }\n",
       "\n",
       "    .dataframe thead th {\n",
       "        text-align: right;\n",
       "    }\n",
       "</style>\n",
       "<table border=\"1\" class=\"dataframe\">\n",
       "  <thead>\n",
       "    <tr style=\"text-align: right;\">\n",
       "      <th></th>\n",
       "      <th>mpg</th>\n",
       "      <th>cylinders</th>\n",
       "      <th>displacement</th>\n",
       "      <th>horsepower</th>\n",
       "      <th>weight</th>\n",
       "      <th>acceleration</th>\n",
       "      <th>model year</th>\n",
       "      <th>origin</th>\n",
       "    </tr>\n",
       "  </thead>\n",
       "  <tbody>\n",
       "    <tr>\n",
       "      <th>0</th>\n",
       "      <td>18.0</td>\n",
       "      <td>8</td>\n",
       "      <td>307.0</td>\n",
       "      <td>130.0</td>\n",
       "      <td>3504</td>\n",
       "      <td>12.0</td>\n",
       "      <td>70</td>\n",
       "      <td>1</td>\n",
       "    </tr>\n",
       "    <tr>\n",
       "      <th>1</th>\n",
       "      <td>15.0</td>\n",
       "      <td>8</td>\n",
       "      <td>350.0</td>\n",
       "      <td>165.0</td>\n",
       "      <td>3693</td>\n",
       "      <td>11.5</td>\n",
       "      <td>70</td>\n",
       "      <td>1</td>\n",
       "    </tr>\n",
       "    <tr>\n",
       "      <th>2</th>\n",
       "      <td>18.0</td>\n",
       "      <td>8</td>\n",
       "      <td>318.0</td>\n",
       "      <td>150.0</td>\n",
       "      <td>3436</td>\n",
       "      <td>11.0</td>\n",
       "      <td>70</td>\n",
       "      <td>1</td>\n",
       "    </tr>\n",
       "    <tr>\n",
       "      <th>3</th>\n",
       "      <td>16.0</td>\n",
       "      <td>8</td>\n",
       "      <td>304.0</td>\n",
       "      <td>150.0</td>\n",
       "      <td>3433</td>\n",
       "      <td>12.0</td>\n",
       "      <td>70</td>\n",
       "      <td>1</td>\n",
       "    </tr>\n",
       "    <tr>\n",
       "      <th>4</th>\n",
       "      <td>17.0</td>\n",
       "      <td>8</td>\n",
       "      <td>302.0</td>\n",
       "      <td>140.0</td>\n",
       "      <td>3449</td>\n",
       "      <td>10.5</td>\n",
       "      <td>70</td>\n",
       "      <td>1</td>\n",
       "    </tr>\n",
       "  </tbody>\n",
       "</table>\n",
       "</div>"
      ],
      "text/plain": [
       "    mpg  cylinders  displacement  horsepower  weight  acceleration  \\\n",
       "0  18.0          8         307.0       130.0    3504          12.0   \n",
       "1  15.0          8         350.0       165.0    3693          11.5   \n",
       "2  18.0          8         318.0       150.0    3436          11.0   \n",
       "3  16.0          8         304.0       150.0    3433          12.0   \n",
       "4  17.0          8         302.0       140.0    3449          10.5   \n",
       "\n",
       "   model year  origin  \n",
       "0          70       1  \n",
       "1          70       1  \n",
       "2          70       1  \n",
       "3          70       1  \n",
       "4          70       1  "
      ]
     },
     "execution_count": 6,
     "metadata": {},
     "output_type": "execute_result"
    }
   ],
   "source": [
    "# Importing the dataset\n",
    "Autompg = pd.read_csv(\"auto_mpg.csv\", index_col = 0)\n",
    "Autompg.head()"
   ]
  },
  {
   "cell_type": "markdown",
   "id": "6e458f47",
   "metadata": {},
   "source": [
    "**Question 1 - Train data is 80%**"
   ]
  },
  {
   "cell_type": "code",
   "execution_count": 209,
   "id": "3cb39d6a",
   "metadata": {},
   "outputs": [
    {
     "data": {
      "text/html": [
       "<div>\n",
       "<style scoped>\n",
       "    .dataframe tbody tr th:only-of-type {\n",
       "        vertical-align: middle;\n",
       "    }\n",
       "\n",
       "    .dataframe tbody tr th {\n",
       "        vertical-align: top;\n",
       "    }\n",
       "\n",
       "    .dataframe thead th {\n",
       "        text-align: right;\n",
       "    }\n",
       "</style>\n",
       "<table border=\"1\" class=\"dataframe\">\n",
       "  <thead>\n",
       "    <tr style=\"text-align: right;\">\n",
       "      <th></th>\n",
       "      <th>cylinders</th>\n",
       "      <th>displacement</th>\n",
       "      <th>horsepower</th>\n",
       "      <th>weight</th>\n",
       "      <th>acceleration</th>\n",
       "      <th>model year</th>\n",
       "      <th>origin</th>\n",
       "    </tr>\n",
       "  </thead>\n",
       "  <tbody>\n",
       "    <tr>\n",
       "      <th>0</th>\n",
       "      <td>8</td>\n",
       "      <td>307.0</td>\n",
       "      <td>130.0</td>\n",
       "      <td>3504</td>\n",
       "      <td>12.0</td>\n",
       "      <td>70</td>\n",
       "      <td>1</td>\n",
       "    </tr>\n",
       "    <tr>\n",
       "      <th>1</th>\n",
       "      <td>8</td>\n",
       "      <td>350.0</td>\n",
       "      <td>165.0</td>\n",
       "      <td>3693</td>\n",
       "      <td>11.5</td>\n",
       "      <td>70</td>\n",
       "      <td>1</td>\n",
       "    </tr>\n",
       "    <tr>\n",
       "      <th>2</th>\n",
       "      <td>8</td>\n",
       "      <td>318.0</td>\n",
       "      <td>150.0</td>\n",
       "      <td>3436</td>\n",
       "      <td>11.0</td>\n",
       "      <td>70</td>\n",
       "      <td>1</td>\n",
       "    </tr>\n",
       "    <tr>\n",
       "      <th>3</th>\n",
       "      <td>8</td>\n",
       "      <td>304.0</td>\n",
       "      <td>150.0</td>\n",
       "      <td>3433</td>\n",
       "      <td>12.0</td>\n",
       "      <td>70</td>\n",
       "      <td>1</td>\n",
       "    </tr>\n",
       "    <tr>\n",
       "      <th>4</th>\n",
       "      <td>8</td>\n",
       "      <td>302.0</td>\n",
       "      <td>140.0</td>\n",
       "      <td>3449</td>\n",
       "      <td>10.5</td>\n",
       "      <td>70</td>\n",
       "      <td>1</td>\n",
       "    </tr>\n",
       "    <tr>\n",
       "      <th>...</th>\n",
       "      <td>...</td>\n",
       "      <td>...</td>\n",
       "      <td>...</td>\n",
       "      <td>...</td>\n",
       "      <td>...</td>\n",
       "      <td>...</td>\n",
       "      <td>...</td>\n",
       "    </tr>\n",
       "    <tr>\n",
       "      <th>393</th>\n",
       "      <td>4</td>\n",
       "      <td>140.0</td>\n",
       "      <td>86.0</td>\n",
       "      <td>2790</td>\n",
       "      <td>15.6</td>\n",
       "      <td>82</td>\n",
       "      <td>1</td>\n",
       "    </tr>\n",
       "    <tr>\n",
       "      <th>394</th>\n",
       "      <td>4</td>\n",
       "      <td>97.0</td>\n",
       "      <td>52.0</td>\n",
       "      <td>2130</td>\n",
       "      <td>24.6</td>\n",
       "      <td>82</td>\n",
       "      <td>2</td>\n",
       "    </tr>\n",
       "    <tr>\n",
       "      <th>395</th>\n",
       "      <td>4</td>\n",
       "      <td>135.0</td>\n",
       "      <td>84.0</td>\n",
       "      <td>2295</td>\n",
       "      <td>11.6</td>\n",
       "      <td>82</td>\n",
       "      <td>1</td>\n",
       "    </tr>\n",
       "    <tr>\n",
       "      <th>396</th>\n",
       "      <td>4</td>\n",
       "      <td>120.0</td>\n",
       "      <td>79.0</td>\n",
       "      <td>2625</td>\n",
       "      <td>18.6</td>\n",
       "      <td>82</td>\n",
       "      <td>1</td>\n",
       "    </tr>\n",
       "    <tr>\n",
       "      <th>397</th>\n",
       "      <td>4</td>\n",
       "      <td>119.0</td>\n",
       "      <td>82.0</td>\n",
       "      <td>2720</td>\n",
       "      <td>19.4</td>\n",
       "      <td>82</td>\n",
       "      <td>1</td>\n",
       "    </tr>\n",
       "  </tbody>\n",
       "</table>\n",
       "<p>398 rows × 7 columns</p>\n",
       "</div>"
      ],
      "text/plain": [
       "     cylinders  displacement  horsepower  weight  acceleration  model year  \\\n",
       "0            8         307.0       130.0    3504          12.0          70   \n",
       "1            8         350.0       165.0    3693          11.5          70   \n",
       "2            8         318.0       150.0    3436          11.0          70   \n",
       "3            8         304.0       150.0    3433          12.0          70   \n",
       "4            8         302.0       140.0    3449          10.5          70   \n",
       "..         ...           ...         ...     ...           ...         ...   \n",
       "393          4         140.0        86.0    2790          15.6          82   \n",
       "394          4          97.0        52.0    2130          24.6          82   \n",
       "395          4         135.0        84.0    2295          11.6          82   \n",
       "396          4         120.0        79.0    2625          18.6          82   \n",
       "397          4         119.0        82.0    2720          19.4          82   \n",
       "\n",
       "     origin  \n",
       "0         1  \n",
       "1         1  \n",
       "2         1  \n",
       "3         1  \n",
       "4         1  \n",
       "..      ...  \n",
       "393       1  \n",
       "394       2  \n",
       "395       1  \n",
       "396       1  \n",
       "397       1  \n",
       "\n",
       "[398 rows x 7 columns]"
      ]
     },
     "execution_count": 209,
     "metadata": {},
     "output_type": "execute_result"
    }
   ],
   "source": [
    "# Selecting specific columns for analysis\n",
    "Autompg_new = Autompg.loc[:,Autompg.columns!='mpg']\n",
    "Autompg_new"
   ]
  },
  {
   "cell_type": "code",
   "execution_count": 211,
   "id": "6bfb434e",
   "metadata": {},
   "outputs": [],
   "source": [
    "# Assigning the independent and dependent variables\n",
    "x = Autompg_new\n",
    "y = Autompg.mpg"
   ]
  },
  {
   "cell_type": "code",
   "execution_count": 214,
   "id": "6d16063f",
   "metadata": {},
   "outputs": [],
   "source": [
    "# Splitting the data into the training and testing sets\n",
    "x_train,x_test,y_train,y_test=train_test_split(x,y,test_size=0.20,random_state=0)"
   ]
  },
  {
   "cell_type": "code",
   "execution_count": 215,
   "id": "353dbab8",
   "metadata": {},
   "outputs": [],
   "source": [
    "# Defining the Lasso Model\n",
    "model_lasso2 = Lasso(alpha=1.0)"
   ]
  },
  {
   "cell_type": "code",
   "execution_count": 216,
   "id": "a51df33b",
   "metadata": {},
   "outputs": [
    {
     "data": {
      "text/plain": [
       "Lasso()"
      ]
     },
     "execution_count": 216,
     "metadata": {},
     "output_type": "execute_result"
    }
   ],
   "source": [
    "# Fitting the Lasso model\n",
    "model_lasso2.fit(x_train,y_train)"
   ]
  },
  {
   "cell_type": "code",
   "execution_count": 217,
   "id": "cc550d23",
   "metadata": {},
   "outputs": [],
   "source": [
    "Y_bar = y_test.mean()"
   ]
  },
  {
   "cell_type": "code",
   "execution_count": 218,
   "id": "10ed1c41",
   "metadata": {},
   "outputs": [],
   "source": [
    "# Predictions from the model\n",
    "pred = model_lasso2.predict(x_test)"
   ]
  },
  {
   "cell_type": "code",
   "execution_count": 219,
   "id": "f09e2a27",
   "metadata": {},
   "outputs": [
    {
     "data": {
      "text/plain": [
       "892.8062709592677"
      ]
     },
     "execution_count": 219,
     "metadata": {},
     "output_type": "execute_result"
    }
   ],
   "source": [
    "# Calculating the residual deviance\n",
    "Residual_deviance = sum(( y_test - pred )**2)\n",
    "Residual_deviance"
   ]
  },
  {
   "cell_type": "code",
   "execution_count": 220,
   "id": "0da3ede5",
   "metadata": {},
   "outputs": [
    {
     "data": {
      "text/plain": [
       "5076.59"
      ]
     },
     "execution_count": 220,
     "metadata": {},
     "output_type": "execute_result"
    }
   ],
   "source": [
    "# Calculating the null deviance\n",
    "Null_deviance = sum(( y_test - Y_bar )**2)\n",
    "Null_deviance"
   ]
  },
  {
   "cell_type": "code",
   "execution_count": 221,
   "id": "bda06166",
   "metadata": {},
   "outputs": [
    {
     "data": {
      "text/plain": [
       "0.8241326813945449"
      ]
     },
     "execution_count": 221,
     "metadata": {},
     "output_type": "execute_result"
    }
   ],
   "source": [
    "# Out of sample R-square \n",
    "1 - (Residual_deviance/Null_deviance)"
   ]
  },
  {
   "cell_type": "code",
   "execution_count": 222,
   "id": "0169b79e",
   "metadata": {},
   "outputs": [
    {
     "data": {
      "text/plain": [
       "0.12099427120261268"
      ]
     },
     "execution_count": 222,
     "metadata": {},
     "output_type": "execute_result"
    }
   ],
   "source": [
    "# The Mean absolute percentage Error for the original and predicted values \n",
    "mean_absolute_percentage_error(y_test, pred)"
   ]
  },
  {
   "cell_type": "markdown",
   "id": "45f40df4",
   "metadata": {},
   "source": [
    "**Train data is 20%**"
   ]
  },
  {
   "cell_type": "code",
   "execution_count": 77,
   "id": "c559ed10",
   "metadata": {},
   "outputs": [],
   "source": [
    "# Splitting the data into the training and testing sets\n",
    "x_train1,x_test1,y_train1,y_test1=train_test_split(x,y,test_size=0.80,random_state=0)"
   ]
  },
  {
   "cell_type": "code",
   "execution_count": 223,
   "id": "635e510c",
   "metadata": {},
   "outputs": [],
   "source": [
    "# Defining the Lasso Model\n",
    "model_lasso1 = Lasso(alpha=1.0)"
   ]
  },
  {
   "cell_type": "code",
   "execution_count": 224,
   "id": "b0df9df0",
   "metadata": {},
   "outputs": [
    {
     "data": {
      "text/plain": [
       "Lasso()"
      ]
     },
     "execution_count": 224,
     "metadata": {},
     "output_type": "execute_result"
    }
   ],
   "source": [
    "# Fitting the Lasso model\n",
    "model_lasso1.fit(x_train1,y_train1)"
   ]
  },
  {
   "cell_type": "code",
   "execution_count": 225,
   "id": "244a3f86",
   "metadata": {},
   "outputs": [],
   "source": [
    "Y_bar1 = y_test1.mean()"
   ]
  },
  {
   "cell_type": "code",
   "execution_count": 226,
   "id": "485d87cd",
   "metadata": {},
   "outputs": [],
   "source": [
    "# Predictions from the model\n",
    "pred1 = model_lasso1.predict(x_test1)"
   ]
  },
  {
   "cell_type": "code",
   "execution_count": 227,
   "id": "c3187917",
   "metadata": {},
   "outputs": [
    {
     "data": {
      "text/plain": [
       "4069.6288704122203"
      ]
     },
     "execution_count": 227,
     "metadata": {},
     "output_type": "execute_result"
    }
   ],
   "source": [
    "Residual_deviance1 = sum(( y_test1 - pred1 )**2)\n",
    "Residual_deviance1"
   ]
  },
  {
   "cell_type": "code",
   "execution_count": 228,
   "id": "8de0d1c9",
   "metadata": {},
   "outputs": [
    {
     "data": {
      "text/plain": [
       "19854.211974921636"
      ]
     },
     "execution_count": 228,
     "metadata": {},
     "output_type": "execute_result"
    }
   ],
   "source": [
    "Null_deviance1 = sum(( y_test1 - Y_bar1 )**2)\n",
    "Null_deviance1"
   ]
  },
  {
   "cell_type": "code",
   "execution_count": 229,
   "id": "0556d34d",
   "metadata": {},
   "outputs": [
    {
     "data": {
      "text/plain": [
       "0.7950244071357416"
      ]
     },
     "execution_count": 229,
     "metadata": {},
     "output_type": "execute_result"
    }
   ],
   "source": [
    "# Out of sample R-square \n",
    "1 - (Residual_deviance1/Null_deviance1)"
   ]
  },
  {
   "cell_type": "code",
   "execution_count": 230,
   "id": "e036dc45",
   "metadata": {},
   "outputs": [
    {
     "data": {
      "text/plain": [
       "0.11777526594806227"
      ]
     },
     "execution_count": 230,
     "metadata": {},
     "output_type": "execute_result"
    }
   ],
   "source": [
    "# The Mean absolute percentage Error for the original and predicted values \n",
    "mean_absolute_percentage_error(y_test1, pred1)"
   ]
  },
  {
   "cell_type": "markdown",
   "id": "be8113a2",
   "metadata": {},
   "source": [
    "**Question 2**"
   ]
  },
  {
   "cell_type": "code",
   "execution_count": 272,
   "id": "1776351f",
   "metadata": {},
   "outputs": [],
   "source": [
    "start_time = time.time()\n",
    "lasso_lars_ic = make_pipeline(\n",
    "    StandardScaler(), LassoLarsIC(criterion=\"aic\", normalize=False)\n",
    ").fit(x_train, y_train)\n",
    "fit_time = time.time() - start_time"
   ]
  },
  {
   "cell_type": "code",
   "execution_count": 273,
   "id": "8673e42b",
   "metadata": {},
   "outputs": [],
   "source": [
    "results = pd.DataFrame(\n",
    "    {\n",
    "        \"alphas\": lasso_lars_ic[-1].alphas_,\n",
    "        \"AIC criterion\": lasso_lars_ic[-1].criterion_,\n",
    "    }\n",
    ").set_index(\"alphas\")\n",
    "alpha_aic = lasso_lars_ic[-1].alpha_"
   ]
  },
  {
   "cell_type": "code",
   "execution_count": 274,
   "id": "ae05f6e9",
   "metadata": {},
   "outputs": [],
   "source": [
    "lasso_lars_ic.set_params(lassolarsic__criterion=\"bic\").fit(x_train, y_train)\n",
    "results[\"BIC criterion\"] = lasso_lars_ic[-1].criterion_\n",
    "alpha_bic = lasso_lars_ic[-1].alpha_"
   ]
  },
  {
   "cell_type": "code",
   "execution_count": 277,
   "id": "a131bf6b",
   "metadata": {},
   "outputs": [
    {
     "data": {
      "text/html": [
       "<style  type=\"text/css\" >\n",
       "#T_1e7c1_row4_col1,#T_1e7c1_row5_col0{\n",
       "            font-weight:  bold;\n",
       "        }</style><table id=\"T_1e7c1_\" ><thead>    <tr>        <th class=\"blank level0\" ></th>        <th class=\"col_heading level0 col0\" >AIC criterion</th>        <th class=\"col_heading level0 col1\" >BIC criterion</th>    </tr>    <tr>        <th class=\"index_name level0\" >alphas</th>        <th class=\"blank\" ></th>        <th class=\"blank\" ></th>    </tr></thead><tbody>\n",
       "                <tr>\n",
       "                        <th id=\"T_1e7c1_level0_row0\" class=\"row_heading level0 row0\" >6.395922862853813</th>\n",
       "                        <td id=\"T_1e7c1_row0_col0\" class=\"data row0 col0\" >318.000000</td>\n",
       "                        <td id=\"T_1e7c1_row0_col1\" class=\"data row0 col1\" >318.000000</td>\n",
       "            </tr>\n",
       "            <tr>\n",
       "                        <th id=\"T_1e7c1_level0_row1\" class=\"row_heading level0 row1\" >4.322556057532109</th>\n",
       "                        <td id=\"T_1e7c1_row1_col0\" class=\"data row1 col0\" >202.770742</td>\n",
       "                        <td id=\"T_1e7c1_row1_col1\" class=\"data row1 col1\" >206.532793</td>\n",
       "            </tr>\n",
       "            <tr>\n",
       "                        <th id=\"T_1e7c1_level0_row2\" class=\"row_heading level0 row2\" >3.5635049331065414</th>\n",
       "                        <td id=\"T_1e7c1_row2_col0\" class=\"data row2 col0\" >170.892484</td>\n",
       "                        <td id=\"T_1e7c1_row2_col1\" class=\"data row2 col1\" >178.416587</td>\n",
       "            </tr>\n",
       "            <tr>\n",
       "                        <th id=\"T_1e7c1_level0_row3\" class=\"row_heading level0 row3\" >1.6757425539633188</th>\n",
       "                        <td id=\"T_1e7c1_row3_col0\" class=\"data row3 col0\" >91.997013</td>\n",
       "                        <td id=\"T_1e7c1_row3_col1\" class=\"data row3 col1\" >103.283167</td>\n",
       "            </tr>\n",
       "            <tr>\n",
       "                        <th id=\"T_1e7c1_level0_row4\" class=\"row_heading level0 row4\" >0.4216611643792746</th>\n",
       "                        <td id=\"T_1e7c1_row4_col0\" class=\"data row4 col0\" >68.930417</td>\n",
       "                        <td id=\"T_1e7c1_row4_col1\" class=\"data row4 col1\" >83.978623</td>\n",
       "            </tr>\n",
       "            <tr>\n",
       "                        <th id=\"T_1e7c1_level0_row5\" class=\"row_heading level0 row5\" >0.06247425193198665</th>\n",
       "                        <td id=\"T_1e7c1_row5_col0\" class=\"data row5 col0\" >68.914675</td>\n",
       "                        <td id=\"T_1e7c1_row5_col1\" class=\"data row5 col1\" >87.724932</td>\n",
       "            </tr>\n",
       "            <tr>\n",
       "                        <th id=\"T_1e7c1_level0_row6\" class=\"row_heading level0 row6\" >0.031362929453618904</th>\n",
       "                        <td id=\"T_1e7c1_row6_col0\" class=\"data row6 col0\" >70.095176</td>\n",
       "                        <td id=\"T_1e7c1_row6_col1\" class=\"data row6 col1\" >92.667484</td>\n",
       "            </tr>\n",
       "            <tr>\n",
       "                        <th id=\"T_1e7c1_level0_row7\" class=\"row_heading level0 row7\" >0.0</th>\n",
       "                        <td id=\"T_1e7c1_row7_col0\" class=\"data row7 col0\" >71.591202</td>\n",
       "                        <td id=\"T_1e7c1_row7_col1\" class=\"data row7 col1\" >97.925561</td>\n",
       "            </tr>\n",
       "    </tbody></table>"
      ],
      "text/plain": [
       "<pandas.io.formats.style.Styler at 0x1c7ba071a30>"
      ]
     },
     "execution_count": 277,
     "metadata": {},
     "output_type": "execute_result"
    }
   ],
   "source": [
    "def highlight_min(x):\n",
    "    x_min = x.min()\n",
    "    return [\"font-weight: bold\" if v == x_min else \"\" for v in x]\n",
    "\n",
    "\n",
    "results.style.apply(highlight_min)"
   ]
  },
  {
   "cell_type": "markdown",
   "id": "e9f726c3",
   "metadata": {},
   "source": [
    "Thus looking at the results we select the value of alpha as 0.4216611643792746 because the value of BIC is lowest at this value of alpha. We are selecting the value of alpha based on the lowest value of BIC because this is a large dataset and hence BIC is a better measure as compared to AIC, because BIC provides better accuracy in determining the best model when the dataset is large."
   ]
  },
  {
   "cell_type": "code",
   "execution_count": 235,
   "id": "424562fe",
   "metadata": {},
   "outputs": [],
   "source": [
    "# model with the optimal value of alpha\n",
    "model_lasso = Lasso(alpha=0.4216611643792746)"
   ]
  },
  {
   "cell_type": "code",
   "execution_count": 236,
   "id": "6e492fd4",
   "metadata": {},
   "outputs": [
    {
     "data": {
      "text/plain": [
       "0.8256445380478143"
      ]
     },
     "execution_count": 236,
     "metadata": {},
     "output_type": "execute_result"
    }
   ],
   "source": [
    "model_lasso.fit(x_train,y_train)\n",
    "Y_barl = y_test.mean()\n",
    "predl = model_lasso.predict(x_test)\n",
    "Residual_deviancel = sum(( y_test - predl )**2)\n",
    "Null_deviancel = sum(( y_test - Y_barl )**2)\n",
    "\n",
    "# Out of sample R-square\n",
    "1 - (Residual_deviancel/Null_deviancel)"
   ]
  },
  {
   "cell_type": "markdown",
   "id": "4e6e95b4",
   "metadata": {},
   "source": [
    "**K-fold cross Validation**"
   ]
  },
  {
   "cell_type": "code",
   "execution_count": 237,
   "id": "2339c8c3",
   "metadata": {},
   "outputs": [],
   "source": [
    "# Cross - validation\n",
    "cv = KFold(n_splits=10, random_state=1, shuffle=True)"
   ]
  },
  {
   "cell_type": "code",
   "execution_count": 238,
   "id": "da1aedad",
   "metadata": {},
   "outputs": [],
   "source": [
    "# Simple Linear regression\n",
    "model_linear = LinearRegression()"
   ]
  },
  {
   "cell_type": "code",
   "execution_count": 239,
   "id": "53f0b2b3",
   "metadata": {},
   "outputs": [],
   "source": [
    "scores = cross_val_score(model_linear, x, y, scoring='r2', cv=cv, n_jobs=-1)"
   ]
  },
  {
   "cell_type": "code",
   "execution_count": 240,
   "id": "36be3d86",
   "metadata": {},
   "outputs": [
    {
     "name": "stdout",
     "output_type": "stream",
     "text": [
      "The r-squares for all the different models are\n"
     ]
    },
    {
     "data": {
      "text/plain": [
       "array([0.87457426, 0.84945464, 0.81752589, 0.83400233, 0.74159183,\n",
       "       0.80590281, 0.82383345, 0.78638523, 0.77581887, 0.79600731])"
      ]
     },
     "execution_count": 240,
     "metadata": {},
     "output_type": "execute_result"
    }
   ],
   "source": [
    "print('The r-squares for all the different models are')\n",
    "scores"
   ]
  },
  {
   "cell_type": "code",
   "execution_count": 271,
   "id": "00d9e411",
   "metadata": {},
   "outputs": [
    {
     "name": "stdout",
     "output_type": "stream",
     "text": [
      "The average r-square for all the models is\n"
     ]
    },
    {
     "data": {
      "text/plain": [
       "0.8105096627069838"
      ]
     },
     "execution_count": 271,
     "metadata": {},
     "output_type": "execute_result"
    }
   ],
   "source": [
    "print('The average r-square for all the models is')\n",
    "scores.mean()"
   ]
  },
  {
   "cell_type": "markdown",
   "id": "d09d79c2",
   "metadata": {},
   "source": [
    "Thus we conclude from observing the out of sample r-squares for all the models and the average r-square after cross validation for the simple regression model that the Lasso model with tuned alpha is better than all the other models because the r-square for it is the highest. "
   ]
  },
  {
   "cell_type": "markdown",
   "id": "43b47d9a",
   "metadata": {},
   "source": [
    "**Calculating the AIC, BIC and AICc**"
   ]
  },
  {
   "cell_type": "code",
   "execution_count": 242,
   "id": "b5422048",
   "metadata": {},
   "outputs": [
    {
     "data": {
      "text/plain": [
       "array([-0.        ,  0.00481336, -0.0182385 , -0.0062437 ,  0.05567346,\n",
       "        0.71199182,  0.37867321])"
      ]
     },
     "execution_count": 242,
     "metadata": {},
     "output_type": "execute_result"
    }
   ],
   "source": [
    "# Lasso Coefficients\n",
    "model_lasso.coef_"
   ]
  },
  {
   "cell_type": "code",
   "execution_count": 243,
   "id": "309cbb3d",
   "metadata": {},
   "outputs": [],
   "source": [
    "k=6\n",
    "predlt = model_lasso.predict(x_train)"
   ]
  },
  {
   "cell_type": "code",
   "execution_count": 244,
   "id": "825f4bf2",
   "metadata": {},
   "outputs": [
    {
     "data": {
      "text/plain": [
       "789.3948588645806"
      ]
     },
     "execution_count": 244,
     "metadata": {},
     "output_type": "execute_result"
    }
   ],
   "source": [
    "# AIC\n",
    "len(x_train)*np.log(sum(( y_train - predlt )**2)/len(x_train)) + (2*k)"
   ]
  },
  {
   "cell_type": "code",
   "execution_count": 245,
   "id": "335f9cdc",
   "metadata": {},
   "outputs": [
    {
     "data": {
      "text/plain": [
       "811.9671671612616"
      ]
     },
     "execution_count": 245,
     "metadata": {},
     "output_type": "execute_result"
    }
   ],
   "source": [
    "# BIC\n",
    "len(x_train)*np.log(sum(( y_train - predlt )**2)/len(x_train)) + (np.log(len(x_train))*k)"
   ]
  },
  {
   "cell_type": "code",
   "execution_count": 246,
   "id": "ec547ffe",
   "metadata": {},
   "outputs": [
    {
     "data": {
      "text/plain": [
       "789.664955327603"
      ]
     },
     "execution_count": 246,
     "metadata": {},
     "output_type": "execute_result"
    }
   ],
   "source": [
    "#AICc\n",
    "len(x_train)*np.log(sum(( y_train - predlt )**2)/len(x_train)) + 2*k*(len(x_train)/(len(x_train)-k-1))"
   ]
  },
  {
   "cell_type": "markdown",
   "id": "cca104a6",
   "metadata": {},
   "source": [
    "***The AIC BIC and AICc for the model with 80% train data in Question 1***"
   ]
  },
  {
   "cell_type": "code",
   "execution_count": 257,
   "id": "7d1201f3",
   "metadata": {},
   "outputs": [
    {
     "data": {
      "text/plain": [
       "array([-0.00000000e+00,  2.50099929e-04, -1.91603225e-02, -6.04260420e-03,\n",
       "        0.00000000e+00,  6.61157463e-01,  0.00000000e+00])"
      ]
     },
     "execution_count": 257,
     "metadata": {},
     "output_type": "execute_result"
    }
   ],
   "source": [
    "# Lasso coefficients \n",
    "model_lasso2.coef_"
   ]
  },
  {
   "cell_type": "code",
   "execution_count": 250,
   "id": "9bed1823",
   "metadata": {},
   "outputs": [],
   "source": [
    "k1=4\n",
    "predt = model_lasso2.predict(x_train)"
   ]
  },
  {
   "cell_type": "code",
   "execution_count": 252,
   "id": "0232bc52",
   "metadata": {},
   "outputs": [
    {
     "data": {
      "text/plain": [
       "799.0225366847842"
      ]
     },
     "execution_count": 252,
     "metadata": {},
     "output_type": "execute_result"
    }
   ],
   "source": [
    "# AIC\n",
    "len(x_train)*np.log(sum(( y_train - predt )**2)/len(x_train)) + (2*k1)"
   ]
  },
  {
   "cell_type": "code",
   "execution_count": 254,
   "id": "1bace1e2",
   "metadata": {},
   "outputs": [
    {
     "data": {
      "text/plain": [
       "814.0707422159049"
      ]
     },
     "execution_count": 254,
     "metadata": {},
     "output_type": "execute_result"
    }
   ],
   "source": [
    "# BIC\n",
    "len(x_train)*np.log(sum(( y_train - predt )**2)/len(x_train)) + (np.log(len(x_train))*k1)"
   ]
  },
  {
   "cell_type": "code",
   "execution_count": 256,
   "id": "459406f2",
   "metadata": {},
   "outputs": [
    {
     "data": {
      "text/plain": [
       "799.1503322119407"
      ]
     },
     "execution_count": 256,
     "metadata": {},
     "output_type": "execute_result"
    }
   ],
   "source": [
    "#AICc\n",
    "len(x_train)*np.log(sum(( y_train - predt )**2)/len(x_train)) + 2*k1*(len(x_train)/(len(x_train)-k1-1))"
   ]
  },
  {
   "cell_type": "markdown",
   "id": "cf3137a1",
   "metadata": {},
   "source": [
    "***The AIC BIC and AICc for the model with 20% train data in Question 1***"
   ]
  },
  {
   "cell_type": "code",
   "execution_count": 259,
   "id": "8d4b0130",
   "metadata": {},
   "outputs": [
    {
     "data": {
      "text/plain": [
       "array([-0.        ,  0.00137872, -0.01147584, -0.00627184,  0.        ,\n",
       "        0.59405214,  0.        ])"
      ]
     },
     "execution_count": 259,
     "metadata": {},
     "output_type": "execute_result"
    }
   ],
   "source": [
    "model_lasso1.coef_"
   ]
  },
  {
   "cell_type": "code",
   "execution_count": 265,
   "id": "925fd0c7",
   "metadata": {},
   "outputs": [],
   "source": [
    "k2 = 4\n",
    "predt1 = model_lasso1.predict(x_train1)"
   ]
  },
  {
   "cell_type": "code",
   "execution_count": 266,
   "id": "1f449aa1",
   "metadata": {},
   "outputs": [
    {
     "data": {
      "text/plain": [
       "187.09261721007204"
      ]
     },
     "execution_count": 266,
     "metadata": {},
     "output_type": "execute_result"
    }
   ],
   "source": [
    "# AIC\n",
    "len(x_train1)*np.log(sum(( y_train1 - predt1 )**2)/len(x_train1)) + (2*k2)"
   ]
  },
  {
   "cell_type": "code",
   "execution_count": 268,
   "id": "1e8438f9",
   "metadata": {},
   "outputs": [
    {
     "data": {
      "text/plain": [
       "196.5704086199401"
      ]
     },
     "execution_count": 268,
     "metadata": {},
     "output_type": "execute_result"
    }
   ],
   "source": [
    "# BIC\n",
    "len(x_train1)*np.log(sum(( y_train1 - predt1 )**2)/len(x_train1)) + (np.log(len(x_train1))*k2)"
   ]
  },
  {
   "cell_type": "code",
   "execution_count": 270,
   "id": "cd1504bf",
   "metadata": {},
   "outputs": [
    {
     "data": {
      "text/plain": [
       "187.63315775061258"
      ]
     },
     "execution_count": 270,
     "metadata": {},
     "output_type": "execute_result"
    }
   ],
   "source": [
    "#AICc\n",
    "len(x_train1)*np.log(sum(( y_train1 - predt1 )**2)/len(x_train1)) + 2*k2*(len(x_train1)/(len(x_train1)-k2-1))"
   ]
  }
 ],
 "metadata": {
  "kernelspec": {
   "display_name": "Python 3",
   "language": "python",
   "name": "python3"
  },
  "language_info": {
   "codemirror_mode": {
    "name": "ipython",
    "version": 3
   },
   "file_extension": ".py",
   "mimetype": "text/x-python",
   "name": "python",
   "nbconvert_exporter": "python",
   "pygments_lexer": "ipython3",
   "version": "3.8.8"
  }
 },
 "nbformat": 4,
 "nbformat_minor": 5
}
